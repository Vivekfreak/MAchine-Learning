{
 "cells": [
  {
   "cell_type": "code",
   "execution_count": null,
   "id": "e6548f2c",
   "metadata": {
    "ExecuteTime": {
     "start_time": "2023-01-04T05:31:46.775Z"
    }
   },
   "outputs": [],
   "source": [
    "import pandas as pd \n",
    "import numpy as np\n",
    "import matplotlib.pyplot as plt\n",
    "import seaborn as sns\n",
    "\n",
    "import warnings\n",
    "warnings.filterwarnings('ignore')"
   ]
  },
  {
   "cell_type": "code",
   "execution_count": null,
   "id": "1604d260",
   "metadata": {
    "ExecuteTime": {
     "start_time": "2023-01-04T05:31:48.704Z"
    }
   },
   "outputs": [],
   "source": [
    "df = pd.read_csv('https://raw.githubusercontent.com/aks245/Dataset/main/Wholesale%20customers%20data.csv')\n",
    "df.head()"
   ]
  },
  {
   "cell_type": "code",
   "execution_count": null,
   "id": "53c04673",
   "metadata": {
    "ExecuteTime": {
     "start_time": "2023-01-04T05:31:49.521Z"
    },
    "scrolled": true
   },
   "outputs": [],
   "source": [
    "df.describe()"
   ]
  },
  {
   "cell_type": "code",
   "execution_count": null,
   "id": "4cded138",
   "metadata": {
    "ExecuteTime": {
     "start_time": "2023-01-04T05:31:50.037Z"
    }
   },
   "outputs": [],
   "source": [
    "df.drop(columns=['Channel','Region'],inplace=True)"
   ]
  },
  {
   "cell_type": "code",
   "execution_count": null,
   "id": "9cc504d1",
   "metadata": {
    "ExecuteTime": {
     "start_time": "2023-01-04T05:31:50.371Z"
    }
   },
   "outputs": [],
   "source": [
    "plt.rcParams['figure.figsize'] = (10,5)\n",
    "plt.rcParams['figure.dpi'] = 250"
   ]
  },
  {
   "cell_type": "code",
   "execution_count": null,
   "id": "f9a8c5a0",
   "metadata": {
    "ExecuteTime": {
     "start_time": "2023-01-04T05:31:50.670Z"
    }
   },
   "outputs": [],
   "source": [
    "df.boxplot()"
   ]
  },
  {
   "cell_type": "code",
   "execution_count": null,
   "id": "fca02651",
   "metadata": {
    "ExecuteTime": {
     "start_time": "2023-01-04T05:31:50.937Z"
    }
   },
   "outputs": [],
   "source": [
    "sns.pairplot(df)"
   ]
  },
  {
   "cell_type": "code",
   "execution_count": null,
   "id": "8f0b538b",
   "metadata": {
    "ExecuteTime": {
     "start_time": "2023-01-04T05:29:06.833Z"
    },
    "scrolled": true
   },
   "outputs": [],
   "source": [
    "from sklearn.preprocessing import StandardScaler\n",
    "sc = StandardScaler()\n",
    "\n",
    "x = sc.fit_transform(df)\n",
    "x"
   ]
  },
  {
   "cell_type": "code",
   "execution_count": null,
   "id": "911f3b9f",
   "metadata": {
    "ExecuteTime": {
     "start_time": "2023-01-04T05:29:06.837Z"
    }
   },
   "outputs": [],
   "source": [
    "from sklearn.cluster import DBSCAN "
   ]
  },
  {
   "cell_type": "code",
   "execution_count": null,
   "id": "4c06219b",
   "metadata": {
    "ExecuteTime": {
     "start_time": "2023-01-04T05:29:06.839Z"
    }
   },
   "outputs": [],
   "source": [
    "db = DBSCAN() \n",
    "db.fit(x)"
   ]
  },
  {
   "cell_type": "code",
   "execution_count": null,
   "id": "3c0e82b2",
   "metadata": {
    "ExecuteTime": {
     "start_time": "2023-01-04T05:29:06.841Z"
    }
   },
   "outputs": [],
   "source": [
    "db.labels_"
   ]
  },
  {
   "cell_type": "code",
   "execution_count": null,
   "id": "2c251054",
   "metadata": {
    "ExecuteTime": {
     "start_time": "2023-01-04T05:29:06.843Z"
    }
   },
   "outputs": [],
   "source": [
    "from sklearn.metrics import silhouette_score"
   ]
  },
  {
   "cell_type": "code",
   "execution_count": null,
   "id": "b9083454",
   "metadata": {
    "ExecuteTime": {
     "start_time": "2023-01-04T05:29:06.846Z"
    }
   },
   "outputs": [],
   "source": [
    "silhouette_score (x,db.labels_)"
   ]
  },
  {
   "cell_type": "code",
   "execution_count": null,
   "id": "0ecee6ea",
   "metadata": {
    "ExecuteTime": {
     "start_time": "2023-01-04T05:29:06.849Z"
    }
   },
   "outputs": [],
   "source": [
    "db = DBSCAN(eps=2, min_samples=3)\n",
    "db.fit_predict(x)"
   ]
  },
  {
   "cell_type": "code",
   "execution_count": null,
   "id": "0e13e322",
   "metadata": {
    "ExecuteTime": {
     "start_time": "2023-01-04T05:29:06.852Z"
    }
   },
   "outputs": [],
   "source": [
    "silhouette_score(x,db.labels_)"
   ]
  },
  {
   "cell_type": "code",
   "execution_count": null,
   "id": "4a741297",
   "metadata": {
    "ExecuteTime": {
     "start_time": "2023-01-04T05:29:06.855Z"
    }
   },
   "outputs": [],
   "source": [
    "df['Y'] = db.labels_"
   ]
  },
  {
   "cell_type": "code",
   "execution_count": null,
   "id": "93f2d2d5",
   "metadata": {
    "ExecuteTime": {
     "start_time": "2023-01-04T05:29:06.858Z"
    }
   },
   "outputs": [],
   "source": [
    "df"
   ]
  },
  {
   "cell_type": "code",
   "execution_count": null,
   "id": "b87ba6ff",
   "metadata": {
    "ExecuteTime": {
     "start_time": "2023-01-04T05:29:06.861Z"
    }
   },
   "outputs": [],
   "source": [
    "df[df['Y']== -1 ]"
   ]
  },
  {
   "cell_type": "code",
   "execution_count": null,
   "id": "ddb5b99f",
   "metadata": {
    "ExecuteTime": {
     "start_time": "2023-01-04T05:29:06.865Z"
    }
   },
   "outputs": [],
   "source": [
    "df.groupby('Y').agg('mean')"
   ]
  }
 ],
 "metadata": {
  "kernelspec": {
   "display_name": "Python 3 (ipykernel)",
   "language": "python",
   "name": "python3"
  },
  "language_info": {
   "codemirror_mode": {
    "name": "ipython",
    "version": 3
   },
   "file_extension": ".py",
   "mimetype": "text/x-python",
   "name": "python",
   "nbconvert_exporter": "python",
   "pygments_lexer": "ipython3",
   "version": "3.9.13"
  }
 },
 "nbformat": 4,
 "nbformat_minor": 5
}
