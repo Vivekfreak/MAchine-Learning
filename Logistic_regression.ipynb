{
 "cells": [
  {
   "cell_type": "code",
   "execution_count": 4,
   "id": "72687b71",
   "metadata": {
    "ExecuteTime": {
     "end_time": "2022-12-28T05:33:45.987593Z",
     "start_time": "2022-12-28T05:33:45.953046Z"
    }
   },
   "outputs": [],
   "source": [
    "import pandas as pd\n",
    "import numpy as np\n",
    "import seaborn as sns\n",
    "import matplotlib.pyplot as plt\n",
    "\n",
    "%matplotlib inline\n",
    "import warnings\n",
    "warnings.filterwarnings('ignore')"
   ]
  },
  {
   "cell_type": "code",
   "execution_count": 10,
   "id": "cf61fae4",
   "metadata": {
    "ExecuteTime": {
     "end_time": "2022-12-28T06:06:17.995622Z",
     "start_time": "2022-12-28T06:06:17.729670Z"
    }
   },
   "outputs": [
    {
     "data": {
      "text/html": [
       "<div>\n",
       "<style scoped>\n",
       "    .dataframe tbody tr th:only-of-type {\n",
       "        vertical-align: middle;\n",
       "    }\n",
       "\n",
       "    .dataframe tbody tr th {\n",
       "        vertical-align: top;\n",
       "    }\n",
       "\n",
       "    .dataframe thead th {\n",
       "        text-align: right;\n",
       "    }\n",
       "</style>\n",
       "<table border=\"1\" class=\"dataframe\">\n",
       "  <thead>\n",
       "    <tr style=\"text-align: right;\">\n",
       "      <th></th>\n",
       "      <th>Unnamed: 0</th>\n",
       "      <th>CASENUM</th>\n",
       "      <th>ATTORNEY</th>\n",
       "      <th>CLMSEX</th>\n",
       "      <th>CLMINSUR</th>\n",
       "      <th>SEATBELT</th>\n",
       "      <th>CLMAGE</th>\n",
       "      <th>LOSS</th>\n",
       "    </tr>\n",
       "  </thead>\n",
       "  <tbody>\n",
       "    <tr>\n",
       "      <th>0</th>\n",
       "      <td>0</td>\n",
       "      <td>5</td>\n",
       "      <td>1</td>\n",
       "      <td>0.0</td>\n",
       "      <td>1.0</td>\n",
       "      <td>0.0</td>\n",
       "      <td>50.0</td>\n",
       "      <td>34.940</td>\n",
       "    </tr>\n",
       "    <tr>\n",
       "      <th>1</th>\n",
       "      <td>1</td>\n",
       "      <td>3</td>\n",
       "      <td>0</td>\n",
       "      <td>1.0</td>\n",
       "      <td>0.0</td>\n",
       "      <td>0.0</td>\n",
       "      <td>18.0</td>\n",
       "      <td>0.891</td>\n",
       "    </tr>\n",
       "    <tr>\n",
       "      <th>2</th>\n",
       "      <td>2</td>\n",
       "      <td>66</td>\n",
       "      <td>0</td>\n",
       "      <td>0.0</td>\n",
       "      <td>1.0</td>\n",
       "      <td>0.0</td>\n",
       "      <td>5.0</td>\n",
       "      <td>0.330</td>\n",
       "    </tr>\n",
       "    <tr>\n",
       "      <th>3</th>\n",
       "      <td>3</td>\n",
       "      <td>70</td>\n",
       "      <td>1</td>\n",
       "      <td>0.0</td>\n",
       "      <td>1.0</td>\n",
       "      <td>1.0</td>\n",
       "      <td>31.0</td>\n",
       "      <td>0.037</td>\n",
       "    </tr>\n",
       "    <tr>\n",
       "      <th>4</th>\n",
       "      <td>4</td>\n",
       "      <td>96</td>\n",
       "      <td>0</td>\n",
       "      <td>0.0</td>\n",
       "      <td>1.0</td>\n",
       "      <td>0.0</td>\n",
       "      <td>30.0</td>\n",
       "      <td>0.038</td>\n",
       "    </tr>\n",
       "  </tbody>\n",
       "</table>\n",
       "</div>"
      ],
      "text/plain": [
       "   Unnamed: 0  CASENUM  ATTORNEY  CLMSEX  CLMINSUR  SEATBELT  CLMAGE    LOSS\n",
       "0           0        5         1     0.0       1.0       0.0    50.0  34.940\n",
       "1           1        3         0     1.0       0.0       0.0    18.0   0.891\n",
       "2           2       66         0     0.0       1.0       0.0     5.0   0.330\n",
       "3           3       70         1     0.0       1.0       1.0    31.0   0.037\n",
       "4           4       96         0     0.0       1.0       0.0    30.0   0.038"
      ]
     },
     "execution_count": 10,
     "metadata": {},
     "output_type": "execute_result"
    }
   ],
   "source": [
    "df = pd.read_csv('https://raw.githubusercontent.com/aishwaryamate/Datasets/main/Client.csv')\n",
    "df.head()"
   ]
  },
  {
   "cell_type": "code",
   "execution_count": 12,
   "id": "74966318",
   "metadata": {
    "ExecuteTime": {
     "end_time": "2022-12-28T06:06:34.869352Z",
     "start_time": "2022-12-28T06:06:34.846276Z"
    }
   },
   "outputs": [
    {
     "data": {
      "text/html": [
       "<div>\n",
       "<style scoped>\n",
       "    .dataframe tbody tr th:only-of-type {\n",
       "        vertical-align: middle;\n",
       "    }\n",
       "\n",
       "    .dataframe tbody tr th {\n",
       "        vertical-align: top;\n",
       "    }\n",
       "\n",
       "    .dataframe thead th {\n",
       "        text-align: right;\n",
       "    }\n",
       "</style>\n",
       "<table border=\"1\" class=\"dataframe\">\n",
       "  <thead>\n",
       "    <tr style=\"text-align: right;\">\n",
       "      <th></th>\n",
       "      <th>ATTORNEY</th>\n",
       "      <th>CLMSEX</th>\n",
       "      <th>CLMINSUR</th>\n",
       "      <th>SEATBELT</th>\n",
       "      <th>CLMAGE</th>\n",
       "      <th>LOSS</th>\n",
       "    </tr>\n",
       "  </thead>\n",
       "  <tbody>\n",
       "    <tr>\n",
       "      <th>0</th>\n",
       "      <td>1</td>\n",
       "      <td>0.0</td>\n",
       "      <td>1.0</td>\n",
       "      <td>0.0</td>\n",
       "      <td>50.0</td>\n",
       "      <td>34.940</td>\n",
       "    </tr>\n",
       "    <tr>\n",
       "      <th>1</th>\n",
       "      <td>0</td>\n",
       "      <td>1.0</td>\n",
       "      <td>0.0</td>\n",
       "      <td>0.0</td>\n",
       "      <td>18.0</td>\n",
       "      <td>0.891</td>\n",
       "    </tr>\n",
       "    <tr>\n",
       "      <th>2</th>\n",
       "      <td>0</td>\n",
       "      <td>0.0</td>\n",
       "      <td>1.0</td>\n",
       "      <td>0.0</td>\n",
       "      <td>5.0</td>\n",
       "      <td>0.330</td>\n",
       "    </tr>\n",
       "    <tr>\n",
       "      <th>3</th>\n",
       "      <td>1</td>\n",
       "      <td>0.0</td>\n",
       "      <td>1.0</td>\n",
       "      <td>1.0</td>\n",
       "      <td>31.0</td>\n",
       "      <td>0.037</td>\n",
       "    </tr>\n",
       "    <tr>\n",
       "      <th>4</th>\n",
       "      <td>0</td>\n",
       "      <td>0.0</td>\n",
       "      <td>1.0</td>\n",
       "      <td>0.0</td>\n",
       "      <td>30.0</td>\n",
       "      <td>0.038</td>\n",
       "    </tr>\n",
       "  </tbody>\n",
       "</table>\n",
       "</div>"
      ],
      "text/plain": [
       "   ATTORNEY  CLMSEX  CLMINSUR  SEATBELT  CLMAGE    LOSS\n",
       "0         1     0.0       1.0       0.0    50.0  34.940\n",
       "1         0     1.0       0.0       0.0    18.0   0.891\n",
       "2         0     0.0       1.0       0.0     5.0   0.330\n",
       "3         1     0.0       1.0       1.0    31.0   0.037\n",
       "4         0     0.0       1.0       0.0    30.0   0.038"
      ]
     },
     "execution_count": 12,
     "metadata": {},
     "output_type": "execute_result"
    }
   ],
   "source": [
    "df.drop(columns=['Unnamed: 0','CASENUM'], inplace=True)\n",
    "df.head()"
   ]
  },
  {
   "cell_type": "code",
   "execution_count": 13,
   "id": "60b6264e",
   "metadata": {
    "ExecuteTime": {
     "end_time": "2022-12-28T06:06:56.432716Z",
     "start_time": "2022-12-28T06:06:56.423536Z"
    }
   },
   "outputs": [
    {
     "data": {
      "text/plain": [
       "(1340, 6)"
      ]
     },
     "execution_count": 13,
     "metadata": {},
     "output_type": "execute_result"
    }
   ],
   "source": [
    "df.shape"
   ]
  },
  {
   "cell_type": "code",
   "execution_count": 14,
   "id": "330585cc",
   "metadata": {
    "ExecuteTime": {
     "end_time": "2022-12-28T06:07:04.983071Z",
     "start_time": "2022-12-28T06:07:04.966593Z"
    }
   },
   "outputs": [
    {
     "data": {
      "text/plain": [
       "ATTORNEY      0\n",
       "CLMSEX       12\n",
       "CLMINSUR     41\n",
       "SEATBELT     48\n",
       "CLMAGE      189\n",
       "LOSS          0\n",
       "dtype: int64"
      ]
     },
     "execution_count": 14,
     "metadata": {},
     "output_type": "execute_result"
    }
   ],
   "source": [
    "df.isna().sum()"
   ]
  },
  {
   "cell_type": "code",
   "execution_count": 15,
   "id": "633604d3",
   "metadata": {
    "ExecuteTime": {
     "end_time": "2022-12-28T06:07:59.835919Z",
     "start_time": "2022-12-28T06:07:59.829811Z"
    }
   },
   "outputs": [],
   "source": [
    "from sklearn.impute import SimpleImputer"
   ]
  },
  {
   "cell_type": "code",
   "execution_count": 16,
   "id": "c7bd17f1",
   "metadata": {
    "ExecuteTime": {
     "end_time": "2022-12-28T06:09:07.945771Z",
     "start_time": "2022-12-28T06:09:07.939395Z"
    }
   },
   "outputs": [],
   "source": [
    "si = SimpleImputer(strategy='most_frequent')"
   ]
  },
  {
   "cell_type": "code",
   "execution_count": 17,
   "id": "a0d6e137",
   "metadata": {
    "ExecuteTime": {
     "end_time": "2022-12-28T06:09:42.005203Z",
     "start_time": "2022-12-28T06:09:41.987609Z"
    }
   },
   "outputs": [],
   "source": [
    "df.iloc[:,1:4] = si.fit_transform(df.iloc[:,1:4])"
   ]
  },
  {
   "cell_type": "code",
   "execution_count": 18,
   "id": "dd0d32f6",
   "metadata": {
    "ExecuteTime": {
     "end_time": "2022-12-28T06:10:21.707770Z",
     "start_time": "2022-12-28T06:10:21.699422Z"
    }
   },
   "outputs": [],
   "source": [
    "df['CLMAGE'].fillna(df['CLMAGE'].mean(), inplace=True)"
   ]
  },
  {
   "cell_type": "code",
   "execution_count": 19,
   "id": "70827a03",
   "metadata": {
    "ExecuteTime": {
     "end_time": "2022-12-28T06:10:32.574480Z",
     "start_time": "2022-12-28T06:10:32.561015Z"
    }
   },
   "outputs": [
    {
     "data": {
      "text/plain": [
       "ATTORNEY    0\n",
       "CLMSEX      0\n",
       "CLMINSUR    0\n",
       "SEATBELT    0\n",
       "CLMAGE      0\n",
       "LOSS        0\n",
       "dtype: int64"
      ]
     },
     "execution_count": 19,
     "metadata": {},
     "output_type": "execute_result"
    }
   ],
   "source": [
    "df.isna().sum()"
   ]
  },
  {
   "cell_type": "markdown",
   "id": "4ac67a95",
   "metadata": {},
   "source": [
    "# Splitting data into training and testing set\n"
   ]
  },
  {
   "cell_type": "code",
   "execution_count": 20,
   "id": "f5b66dfd",
   "metadata": {
    "ExecuteTime": {
     "end_time": "2022-12-28T06:10:58.045735Z",
     "start_time": "2022-12-28T06:10:58.037752Z"
    }
   },
   "outputs": [],
   "source": [
    "from sklearn.model_selection import train_test_split"
   ]
  },
  {
   "cell_type": "code",
   "execution_count": 21,
   "id": "de05a241",
   "metadata": {
    "ExecuteTime": {
     "end_time": "2022-12-28T06:11:03.798084Z",
     "start_time": "2022-12-28T06:11:03.779505Z"
    }
   },
   "outputs": [
    {
     "data": {
      "text/html": [
       "<div>\n",
       "<style scoped>\n",
       "    .dataframe tbody tr th:only-of-type {\n",
       "        vertical-align: middle;\n",
       "    }\n",
       "\n",
       "    .dataframe tbody tr th {\n",
       "        vertical-align: top;\n",
       "    }\n",
       "\n",
       "    .dataframe thead th {\n",
       "        text-align: right;\n",
       "    }\n",
       "</style>\n",
       "<table border=\"1\" class=\"dataframe\">\n",
       "  <thead>\n",
       "    <tr style=\"text-align: right;\">\n",
       "      <th></th>\n",
       "      <th>ATTORNEY</th>\n",
       "      <th>CLMSEX</th>\n",
       "      <th>CLMINSUR</th>\n",
       "      <th>SEATBELT</th>\n",
       "      <th>CLMAGE</th>\n",
       "      <th>LOSS</th>\n",
       "    </tr>\n",
       "  </thead>\n",
       "  <tbody>\n",
       "    <tr>\n",
       "      <th>0</th>\n",
       "      <td>1</td>\n",
       "      <td>0.0</td>\n",
       "      <td>1.0</td>\n",
       "      <td>0.0</td>\n",
       "      <td>50.0</td>\n",
       "      <td>34.940</td>\n",
       "    </tr>\n",
       "    <tr>\n",
       "      <th>1</th>\n",
       "      <td>0</td>\n",
       "      <td>1.0</td>\n",
       "      <td>0.0</td>\n",
       "      <td>0.0</td>\n",
       "      <td>18.0</td>\n",
       "      <td>0.891</td>\n",
       "    </tr>\n",
       "  </tbody>\n",
       "</table>\n",
       "</div>"
      ],
      "text/plain": [
       "   ATTORNEY  CLMSEX  CLMINSUR  SEATBELT  CLMAGE    LOSS\n",
       "0         1     0.0       1.0       0.0    50.0  34.940\n",
       "1         0     1.0       0.0       0.0    18.0   0.891"
      ]
     },
     "execution_count": 21,
     "metadata": {},
     "output_type": "execute_result"
    }
   ],
   "source": [
    "df.head(2)"
   ]
  },
  {
   "cell_type": "code",
   "execution_count": 22,
   "id": "01e031e6",
   "metadata": {
    "ExecuteTime": {
     "end_time": "2022-12-28T06:13:25.163212Z",
     "start_time": "2022-12-28T06:13:25.156615Z"
    }
   },
   "outputs": [],
   "source": [
    "x = df.iloc[:,1:]\n",
    "y = df['ATTORNEY']"
   ]
  },
  {
   "cell_type": "code",
   "execution_count": 23,
   "id": "7388c45b",
   "metadata": {
    "ExecuteTime": {
     "end_time": "2022-12-28T06:14:07.798344Z",
     "start_time": "2022-12-28T06:14:07.787138Z"
    }
   },
   "outputs": [],
   "source": [
    "xtrain,xtest,ytrain,ytest = train_test_split(x,y,train_size=0.75,random_state=1)"
   ]
  },
  {
   "cell_type": "code",
   "execution_count": 24,
   "id": "d957671a",
   "metadata": {
    "ExecuteTime": {
     "end_time": "2022-12-28T06:14:11.546290Z",
     "start_time": "2022-12-28T06:14:11.517008Z"
    },
    "collapsed": true
   },
   "outputs": [
    {
     "data": {
      "text/html": [
       "<div>\n",
       "<style scoped>\n",
       "    .dataframe tbody tr th:only-of-type {\n",
       "        vertical-align: middle;\n",
       "    }\n",
       "\n",
       "    .dataframe tbody tr th {\n",
       "        vertical-align: top;\n",
       "    }\n",
       "\n",
       "    .dataframe thead th {\n",
       "        text-align: right;\n",
       "    }\n",
       "</style>\n",
       "<table border=\"1\" class=\"dataframe\">\n",
       "  <thead>\n",
       "    <tr style=\"text-align: right;\">\n",
       "      <th></th>\n",
       "      <th>CLMSEX</th>\n",
       "      <th>CLMINSUR</th>\n",
       "      <th>SEATBELT</th>\n",
       "      <th>CLMAGE</th>\n",
       "      <th>LOSS</th>\n",
       "    </tr>\n",
       "  </thead>\n",
       "  <tbody>\n",
       "    <tr>\n",
       "      <th>1045</th>\n",
       "      <td>1.0</td>\n",
       "      <td>1.0</td>\n",
       "      <td>0.0</td>\n",
       "      <td>37.000000</td>\n",
       "      <td>0.935</td>\n",
       "    </tr>\n",
       "    <tr>\n",
       "      <th>969</th>\n",
       "      <td>0.0</td>\n",
       "      <td>1.0</td>\n",
       "      <td>0.0</td>\n",
       "      <td>14.000000</td>\n",
       "      <td>10.869</td>\n",
       "    </tr>\n",
       "    <tr>\n",
       "      <th>594</th>\n",
       "      <td>1.0</td>\n",
       "      <td>1.0</td>\n",
       "      <td>0.0</td>\n",
       "      <td>43.000000</td>\n",
       "      <td>0.007</td>\n",
       "    </tr>\n",
       "    <tr>\n",
       "      <th>1081</th>\n",
       "      <td>1.0</td>\n",
       "      <td>1.0</td>\n",
       "      <td>0.0</td>\n",
       "      <td>77.000000</td>\n",
       "      <td>1.000</td>\n",
       "    </tr>\n",
       "    <tr>\n",
       "      <th>1053</th>\n",
       "      <td>1.0</td>\n",
       "      <td>1.0</td>\n",
       "      <td>0.0</td>\n",
       "      <td>58.000000</td>\n",
       "      <td>9.485</td>\n",
       "    </tr>\n",
       "    <tr>\n",
       "      <th>...</th>\n",
       "      <td>...</td>\n",
       "      <td>...</td>\n",
       "      <td>...</td>\n",
       "      <td>...</td>\n",
       "      <td>...</td>\n",
       "    </tr>\n",
       "    <tr>\n",
       "      <th>715</th>\n",
       "      <td>0.0</td>\n",
       "      <td>1.0</td>\n",
       "      <td>0.0</td>\n",
       "      <td>13.000000</td>\n",
       "      <td>6.979</td>\n",
       "    </tr>\n",
       "    <tr>\n",
       "      <th>905</th>\n",
       "      <td>0.0</td>\n",
       "      <td>1.0</td>\n",
       "      <td>0.0</td>\n",
       "      <td>28.414422</td>\n",
       "      <td>3.330</td>\n",
       "    </tr>\n",
       "    <tr>\n",
       "      <th>1096</th>\n",
       "      <td>0.0</td>\n",
       "      <td>1.0</td>\n",
       "      <td>0.0</td>\n",
       "      <td>50.000000</td>\n",
       "      <td>3.095</td>\n",
       "    </tr>\n",
       "    <tr>\n",
       "      <th>235</th>\n",
       "      <td>1.0</td>\n",
       "      <td>1.0</td>\n",
       "      <td>0.0</td>\n",
       "      <td>17.000000</td>\n",
       "      <td>1.619</td>\n",
       "    </tr>\n",
       "    <tr>\n",
       "      <th>1061</th>\n",
       "      <td>1.0</td>\n",
       "      <td>1.0</td>\n",
       "      <td>0.0</td>\n",
       "      <td>47.000000</td>\n",
       "      <td>0.480</td>\n",
       "    </tr>\n",
       "  </tbody>\n",
       "</table>\n",
       "<p>1005 rows × 5 columns</p>\n",
       "</div>"
      ],
      "text/plain": [
       "      CLMSEX  CLMINSUR  SEATBELT     CLMAGE    LOSS\n",
       "1045     1.0       1.0       0.0  37.000000   0.935\n",
       "969      0.0       1.0       0.0  14.000000  10.869\n",
       "594      1.0       1.0       0.0  43.000000   0.007\n",
       "1081     1.0       1.0       0.0  77.000000   1.000\n",
       "1053     1.0       1.0       0.0  58.000000   9.485\n",
       "...      ...       ...       ...        ...     ...\n",
       "715      0.0       1.0       0.0  13.000000   6.979\n",
       "905      0.0       1.0       0.0  28.414422   3.330\n",
       "1096     0.0       1.0       0.0  50.000000   3.095\n",
       "235      1.0       1.0       0.0  17.000000   1.619\n",
       "1061     1.0       1.0       0.0  47.000000   0.480\n",
       "\n",
       "[1005 rows x 5 columns]"
      ]
     },
     "execution_count": 24,
     "metadata": {},
     "output_type": "execute_result"
    }
   ],
   "source": [
    "xtrain"
   ]
  },
  {
   "cell_type": "markdown",
   "id": "f3c2d8d4",
   "metadata": {},
   "source": [
    "# Model Building"
   ]
  },
  {
   "cell_type": "code",
   "execution_count": 25,
   "id": "66a65357",
   "metadata": {
    "ExecuteTime": {
     "end_time": "2022-12-28T06:15:32.768334Z",
     "start_time": "2022-12-28T06:15:32.761721Z"
    }
   },
   "outputs": [],
   "source": [
    "from sklearn.linear_model import LogisticRegression"
   ]
  },
  {
   "cell_type": "code",
   "execution_count": 26,
   "id": "d943e84d",
   "metadata": {
    "ExecuteTime": {
     "end_time": "2022-12-28T06:15:43.257772Z",
     "start_time": "2022-12-28T06:15:43.251143Z"
    }
   },
   "outputs": [],
   "source": [
    "lg = LogisticRegression()"
   ]
  },
  {
   "cell_type": "code",
   "execution_count": 27,
   "id": "9dd28c08",
   "metadata": {
    "ExecuteTime": {
     "end_time": "2022-12-28T06:16:28.451602Z",
     "start_time": "2022-12-28T06:16:28.333039Z"
    }
   },
   "outputs": [],
   "source": [
    "#Train the model\n",
    "lg.fit(xtrain,ytrain)\n",
    "\n",
    "#Prediction\n",
    "ypred = lg.predict(xtest)"
   ]
  },
  {
   "cell_type": "code",
   "execution_count": 28,
   "id": "3796489e",
   "metadata": {
    "ExecuteTime": {
     "end_time": "2022-12-28T06:16:35.382976Z",
     "start_time": "2022-12-28T06:16:35.371685Z"
    }
   },
   "outputs": [
    {
     "data": {
      "text/plain": [
       "335"
      ]
     },
     "execution_count": 28,
     "metadata": {},
     "output_type": "execute_result"
    }
   ],
   "source": [
    "len(xtest)"
   ]
  },
  {
   "cell_type": "code",
   "execution_count": 29,
   "id": "4f19f02e",
   "metadata": {
    "ExecuteTime": {
     "end_time": "2022-12-28T06:18:09.409321Z",
     "start_time": "2022-12-28T06:18:09.393946Z"
    }
   },
   "outputs": [
    {
     "data": {
      "text/plain": [
       "335"
      ]
     },
     "execution_count": 29,
     "metadata": {},
     "output_type": "execute_result"
    }
   ],
   "source": [
    "len(ypred)"
   ]
  },
  {
   "cell_type": "code",
   "execution_count": 30,
   "id": "a007e5d9",
   "metadata": {
    "ExecuteTime": {
     "end_time": "2022-12-28T06:21:32.248309Z",
     "start_time": "2022-12-28T06:21:32.232367Z"
    }
   },
   "outputs": [
    {
     "name": "stdout",
     "output_type": "stream",
     "text": [
      "Actual Y: [0 0 0 0 1 0 1 1 0 1 1 1 0 1 1 0 1 1 0 0 0 0 1 0 0]\n",
      "Predict Y: [0 0 0 0 1 0 0 1 0 0 0 0 0 1 0 1 0 0 0 0 0 0 1 0 0]\n"
     ]
    }
   ],
   "source": [
    "print('Actual Y:', ytest[:25].values)\n",
    "print('Predict Y:', ypred[:25])"
   ]
  },
  {
   "cell_type": "code",
   "execution_count": 31,
   "id": "2d8c7a3e",
   "metadata": {
    "ExecuteTime": {
     "end_time": "2022-12-28T06:22:18.903307Z",
     "start_time": "2022-12-28T06:22:18.891764Z"
    }
   },
   "outputs": [],
   "source": [
    "from sklearn.metrics import classification_report, confusion_matrix"
   ]
  },
  {
   "cell_type": "code",
   "execution_count": 32,
   "id": "8ffe8960",
   "metadata": {
    "ExecuteTime": {
     "end_time": "2022-12-28T06:23:38.397374Z",
     "start_time": "2022-12-28T06:23:38.381685Z"
    }
   },
   "outputs": [
    {
     "name": "stdout",
     "output_type": "stream",
     "text": [
      "              precision    recall  f1-score   support\n",
      "\n",
      "           0       0.65      0.78      0.71       169\n",
      "           1       0.71      0.57      0.64       166\n",
      "\n",
      "    accuracy                           0.67       335\n",
      "   macro avg       0.68      0.67      0.67       335\n",
      "weighted avg       0.68      0.67      0.67       335\n",
      "\n"
     ]
    }
   ],
   "source": [
    "print(classification_report(ytest,ypred))"
   ]
  },
  {
   "cell_type": "code",
   "execution_count": 33,
   "id": "468923e0",
   "metadata": {
    "ExecuteTime": {
     "end_time": "2022-12-28T06:25:09.276659Z",
     "start_time": "2022-12-28T06:25:09.261078Z"
    }
   },
   "outputs": [
    {
     "data": {
      "text/plain": [
       "array([[131,  38],\n",
       "       [ 71,  95]])"
      ]
     },
     "execution_count": 33,
     "metadata": {},
     "output_type": "execute_result"
    }
   ],
   "source": [
    "confusion_matrix(ytest,ypred)"
   ]
  },
  {
   "cell_type": "code",
   "execution_count": 34,
   "id": "06eeaf77",
   "metadata": {
    "ExecuteTime": {
     "end_time": "2022-12-28T06:26:12.258823Z",
     "start_time": "2022-12-28T06:26:11.978909Z"
    }
   },
   "outputs": [
    {
     "data": {
      "text/plain": [
       "Text(50.722222222222214, 0.5, 'Predicted Values')"
      ]
     },
     "execution_count": 34,
     "metadata": {},
     "output_type": "execute_result"
    },
    {
     "data": {
      "image/png": "[encoded data removed]",
      "text/plain": [
       "<Figure size 640x480 with 2 Axes>"
      ]
     },
     "metadata": {},
     "output_type": "display_data"
    }
   ],
   "source": [
    "sns.heatmap(confusion_matrix(ytest,ypred), annot=True)\n",
    "plt.xlabel('Actual Values')\n",
    "plt.ylabel('Predicted Values')"
   ]
  },
  {
   "cell_type": "markdown",
   "id": "ac75cbff",
   "metadata": {},
   "source": [
    "# Threshold selection"
   ]
  },
  {
   "cell_type": "code",
   "execution_count": 38,
   "id": "eb382f74",
   "metadata": {
    "ExecuteTime": {
     "end_time": "2022-12-29T05:36:14.938492Z",
     "start_time": "2022-12-29T05:36:14.907034Z"
    },
    "collapsed": true
   },
   "outputs": [
    {
     "data": {
      "text/plain": [
       "array([[6.95474687e-01, 3.04525313e-01],\n",
       "       [6.81222965e-01, 3.18777035e-01],\n",
       "       [5.56325856e-01, 4.43674144e-01],\n",
       "       [6.10782665e-01, 3.89217335e-01],\n",
       "       [4.07306163e-01, 5.92693837e-01],\n",
       "       [6.30436835e-01, 3.69563165e-01],\n",
       "       [6.99612959e-01, 3.00387041e-01],\n",
       "       [4.53074888e-01, 5.46925112e-01],\n",
       "       [6.61819654e-01, 3.38180346e-01],\n",
       "       [6.68722174e-01, 3.31277826e-01],\n",
       "       [5.57718915e-01, 4.42281085e-01],\n",
       "       [6.13249905e-01, 3.86750095e-01],\n",
       "       [6.09440083e-01, 3.90559917e-01],\n",
       "       [4.08879739e-01, 5.91120261e-01],\n",
       "       [6.64473263e-01, 3.35526737e-01],\n",
       "       [4.27543135e-01, 5.72456865e-01],\n",
       "       [5.66276755e-01, 4.33723245e-01],\n",
       "       [5.42119411e-01, 4.57880589e-01],\n",
       "       [6.45522258e-01, 3.54477742e-01],\n",
       "       [6.68607233e-01, 3.31392767e-01],\n",
       "       [6.82767318e-01, 3.17232682e-01],\n",
       "       [5.91165710e-01, 4.08834290e-01],\n",
       "       [3.77097826e-01, 6.22902174e-01],\n",
       "       [5.89589869e-01, 4.10410131e-01],\n",
       "       [5.98485988e-01, 4.01514012e-01],\n",
       "       [6.36447194e-01, 3.63552806e-01],\n",
       "       [7.02407491e-01, 2.97592509e-01],\n",
       "       [6.22359252e-01, 3.77640748e-01],\n",
       "       [6.00387856e-01, 3.99612144e-01],\n",
       "       [6.78857526e-01, 3.21142474e-01],\n",
       "       [5.90164039e-01, 4.09835961e-01],\n",
       "       [6.35606600e-01, 3.64393400e-01],\n",
       "       [5.59760735e-01, 4.40239265e-01],\n",
       "       [2.67972615e-01, 7.32027385e-01],\n",
       "       [2.49420667e-01, 7.50579333e-01],\n",
       "       [6.08899659e-01, 3.91100341e-01],\n",
       "       [3.55462375e-01, 6.44537625e-01],\n",
       "       [4.57404384e-01, 5.42595616e-01],\n",
       "       [6.49067313e-01, 3.50932687e-01],\n",
       "       [6.90488119e-01, 3.09511881e-01],\n",
       "       [6.78473920e-01, 3.21526080e-01],\n",
       "       [1.30621290e-04, 9.99869379e-01],\n",
       "       [5.01021195e-01, 4.98978805e-01],\n",
       "       [5.29665826e-01, 4.70334174e-01],\n",
       "       [5.66088246e-01, 4.33911754e-01],\n",
       "       [3.98058588e-01, 6.01941412e-01],\n",
       "       [7.22772008e-01, 2.77227992e-01],\n",
       "       [6.76462362e-01, 3.23537638e-01],\n",
       "       [6.23770256e-01, 3.76229744e-01],\n",
       "       [5.85369463e-01, 4.14630537e-01],\n",
       "       [5.74772412e-01, 4.25227588e-01],\n",
       "       [6.78796820e-01, 3.21203180e-01],\n",
       "       [6.82022490e-01, 3.17977510e-01],\n",
       "       [5.77717948e-01, 4.22282052e-01],\n",
       "       [5.49517634e-01, 4.50482366e-01],\n",
       "       [6.30350371e-01, 3.69649629e-01],\n",
       "       [2.63504826e-01, 7.36495174e-01],\n",
       "       [6.52804175e-01, 3.47195825e-01],\n",
       "       [1.71595192e-01, 8.28404808e-01],\n",
       "       [6.53765992e-01, 3.46234008e-01],\n",
       "       [4.21247710e-01, 5.78752290e-01],\n",
       "       [3.62781812e-01, 6.37218188e-01],\n",
       "       [6.30436835e-01, 3.69563165e-01],\n",
       "       [8.81759304e-02, 9.11824070e-01],\n",
       "       [4.03955473e-01, 5.96044527e-01],\n",
       "       [1.42953019e-01, 8.57046981e-01],\n",
       "       [6.55181199e-01, 3.44818801e-01],\n",
       "       [1.22837368e-01, 8.77162632e-01],\n",
       "       [4.67853371e-01, 5.32146629e-01],\n",
       "       [1.48338802e-01, 8.51661198e-01],\n",
       "       [2.52519276e-01, 7.47480724e-01],\n",
       "       [3.49051508e-01, 6.50948492e-01],\n",
       "       [6.80156503e-01, 3.19843497e-01],\n",
       "       [5.85202986e-01, 4.14797014e-01],\n",
       "       [3.62739367e-01, 6.37260633e-01],\n",
       "       [6.90686061e-01, 3.09313939e-01],\n",
       "       [1.39762216e-01, 8.60237784e-01],\n",
       "       [6.64250932e-01, 3.35749068e-01],\n",
       "       [6.79359308e-01, 3.20640692e-01],\n",
       "       [7.11562636e-01, 2.88437364e-01],\n",
       "       [6.77970246e-01, 3.22029754e-01],\n",
       "       [5.36240603e-01, 4.63759397e-01],\n",
       "       [3.39078667e-01, 6.60921333e-01],\n",
       "       [5.03171513e-01, 4.96828487e-01],\n",
       "       [5.82693127e-01, 4.17306873e-01],\n",
       "       [4.99206521e-01, 5.00793479e-01],\n",
       "       [2.20654857e-01, 7.79345143e-01],\n",
       "       [3.01829974e-01, 6.98170026e-01],\n",
       "       [6.96807620e-01, 3.03192380e-01],\n",
       "       [9.35862166e-02, 9.06413783e-01],\n",
       "       [6.37894597e-01, 3.62105403e-01],\n",
       "       [6.23243843e-01, 3.76756157e-01],\n",
       "       [3.33436878e-01, 6.66563122e-01],\n",
       "       [6.91451097e-01, 3.08548903e-01],\n",
       "       [5.57951110e-01, 4.42048890e-01],\n",
       "       [6.55603382e-01, 3.44396618e-01],\n",
       "       [6.32991972e-01, 3.67008028e-01],\n",
       "       [3.91194771e-01, 6.08805229e-01],\n",
       "       [3.76263477e-01, 6.23736523e-01],\n",
       "       [3.28030019e-01, 6.71969981e-01],\n",
       "       [3.44315311e-01, 6.55684689e-01],\n",
       "       [4.02265025e-01, 5.97734975e-01],\n",
       "       [4.13766227e-01, 5.86233773e-01],\n",
       "       [5.09228479e-01, 4.90771521e-01],\n",
       "       [4.27805795e-01, 5.72194205e-01],\n",
       "       [3.09496406e-01, 6.90503594e-01],\n",
       "       [5.92354309e-01, 4.07645691e-01],\n",
       "       [7.17784690e-01, 2.82215310e-01],\n",
       "       [4.70225802e-01, 5.29774198e-01],\n",
       "       [2.57490927e-01, 7.42509073e-01],\n",
       "       [8.78093881e-05, 9.99912191e-01],\n",
       "       [6.77102766e-01, 3.22897234e-01],\n",
       "       [5.97728725e-01, 4.02271275e-01],\n",
       "       [6.43782466e-01, 3.56217534e-01],\n",
       "       [3.57207478e-01, 6.42792522e-01],\n",
       "       [4.12778105e-01, 5.87221895e-01],\n",
       "       [5.22989229e-01, 4.77010771e-01],\n",
       "       [6.79487720e-01, 3.20512280e-01],\n",
       "       [6.65820275e-01, 3.34179725e-01],\n",
       "       [6.73760905e-01, 3.26239095e-01],\n",
       "       [1.95775622e-01, 8.04224378e-01],\n",
       "       [6.14157064e-01, 3.85842936e-01],\n",
       "       [6.46709043e-01, 3.53290957e-01],\n",
       "       [5.14126044e-01, 4.85873956e-01],\n",
       "       [6.01703736e-01, 3.98296264e-01],\n",
       "       [6.48645201e-01, 3.51354799e-01],\n",
       "       [3.31310883e-01, 6.68689117e-01],\n",
       "       [6.03174385e-01, 3.96825615e-01],\n",
       "       [5.81068024e-01, 4.18931976e-01],\n",
       "       [6.66042665e-01, 3.33957335e-01],\n",
       "       [4.02120018e-02, 9.59787998e-01],\n",
       "       [4.92709125e-01, 5.07290875e-01],\n",
       "       [5.77630820e-01, 4.22369180e-01],\n",
       "       [6.59677811e-01, 3.40322189e-01],\n",
       "       [2.47947706e-01, 7.52052294e-01],\n",
       "       [6.97795708e-01, 3.02204292e-01],\n",
       "       [9.84009841e-02, 9.01599016e-01],\n",
       "       [6.11625540e-01, 3.88374460e-01],\n",
       "       [4.36153568e-01, 5.63846432e-01],\n",
       "       [6.42966806e-01, 3.57033194e-01],\n",
       "       [6.91588744e-01, 3.08411256e-01],\n",
       "       [7.00150826e-01, 2.99849174e-01],\n",
       "       [5.87505036e-01, 4.12494964e-01],\n",
       "       [6.77926052e-01, 3.22073948e-01],\n",
       "       [6.82022490e-01, 3.17977510e-01],\n",
       "       [6.35225779e-01, 3.64774221e-01],\n",
       "       [6.78832083e-01, 3.21167917e-01],\n",
       "       [4.02103344e-01, 5.97896656e-01],\n",
       "       [1.93653778e-01, 8.06346222e-01],\n",
       "       [2.43462089e-01, 7.56537911e-01],\n",
       "       [6.82827048e-01, 3.17172952e-01],\n",
       "       [2.54005221e-01, 7.45994779e-01],\n",
       "       [5.66205460e-09, 9.99999994e-01],\n",
       "       [3.49237008e-01, 6.50762992e-01],\n",
       "       [1.52566848e-12, 1.00000000e+00],\n",
       "       [2.46175674e-01, 7.53824326e-01],\n",
       "       [3.86631457e-01, 6.13368543e-01],\n",
       "       [6.90199218e-01, 3.09800782e-01],\n",
       "       [5.92862999e-01, 4.07137001e-01],\n",
       "       [4.83882477e-01, 5.16117523e-01],\n",
       "       [6.34427842e-01, 3.65572158e-01],\n",
       "       [2.47322204e-01, 7.52677796e-01],\n",
       "       [6.18144091e-01, 3.81855909e-01],\n",
       "       [2.30633669e-02, 9.76936633e-01],\n",
       "       [5.59858090e-01, 4.40141910e-01],\n",
       "       [4.45653897e-01, 5.54346103e-01],\n",
       "       [4.06043274e-01, 5.93956726e-01],\n",
       "       [6.41232062e-01, 3.58767938e-01],\n",
       "       [6.97987842e-01, 3.02012158e-01],\n",
       "       [5.84144092e-01, 4.15855908e-01],\n",
       "       [3.85694455e-01, 6.14305545e-01],\n",
       "       [6.07865625e-01, 3.92134375e-01],\n",
       "       [9.69343830e-02, 9.03065617e-01],\n",
       "       [6.35714524e-01, 3.64285476e-01],\n",
       "       [5.62585853e-01, 4.37414147e-01],\n",
       "       [6.60435851e-01, 3.39564149e-01],\n",
       "       [5.76612390e-01, 4.23387610e-01],\n",
       "       [6.15687877e-01, 3.84312123e-01],\n",
       "       [6.68607233e-01, 3.31392767e-01],\n",
       "       [6.22151941e-01, 3.77848059e-01],\n",
       "       [5.77756703e-01, 4.22243297e-01],\n",
       "       [7.16361534e-01, 2.83638466e-01],\n",
       "       [5.90803819e-01, 4.09196181e-01],\n",
       "       [3.45182755e-01, 6.54817245e-01],\n",
       "       [5.84020669e-01, 4.15979331e-01],\n",
       "       [3.30251775e-01, 6.69748225e-01],\n",
       "       [6.01865930e-01, 3.98134070e-01],\n",
       "       [5.85957181e-01, 4.14042819e-01],\n",
       "       [6.50573657e-01, 3.49426343e-01],\n",
       "       [4.95765077e-01, 5.04234923e-01],\n",
       "       [6.72603422e-01, 3.27396578e-01],\n",
       "       [6.77580106e-01, 3.22419894e-01],\n",
       "       [4.29454284e-01, 5.70545716e-01],\n",
       "       [6.66329653e-01, 3.33670347e-01],\n",
       "       [6.45768377e-01, 3.54231623e-01],\n",
       "       [2.68833124e-01, 7.31166876e-01],\n",
       "       [4.29711857e-01, 5.70288143e-01],\n",
       "       [2.58668685e-01, 7.41331315e-01],\n",
       "       [5.52782710e-01, 4.47217290e-01],\n",
       "       [4.39640356e-01, 5.60359644e-01],\n",
       "       [5.71661767e-01, 4.28338233e-01],\n",
       "       [6.80157083e-01, 3.19842917e-01],\n",
       "       [6.84990114e-01, 3.15009886e-01],\n",
       "       [6.72233290e-01, 3.27766710e-01],\n",
       "       [4.40413550e-01, 5.59586450e-01],\n",
       "       [6.18590323e-01, 3.81409677e-01],\n",
       "       [7.16402660e-01, 2.83597340e-01],\n",
       "       [4.59307435e-01, 5.40692565e-01],\n",
       "       [3.03122336e-01, 6.96877664e-01],\n",
       "       [5.18039434e-01, 4.81960566e-01],\n",
       "       [6.44055307e-01, 3.55944693e-01],\n",
       "       [7.06145868e-01, 2.93854132e-01],\n",
       "       [1.08887650e-01, 8.91112350e-01],\n",
       "       [6.17889143e-01, 3.82110857e-01],\n",
       "       [6.74494708e-01, 3.25505292e-01],\n",
       "       [5.42789645e-01, 4.57210355e-01],\n",
       "       [4.61392660e-01, 5.38607340e-01],\n",
       "       [5.78680703e-01, 4.21319297e-01],\n",
       "       [6.84668457e-01, 3.15331543e-01],\n",
       "       [6.01805995e-01, 3.98194005e-01],\n",
       "       [4.74665164e-01, 5.25334836e-01],\n",
       "       [5.72434464e-01, 4.27565536e-01],\n",
       "       [5.76229313e-01, 4.23770687e-01],\n",
       "       [7.00456742e-01, 2.99543258e-01],\n",
       "       [3.81348380e-01, 6.18651620e-01],\n",
       "       [6.48662511e-01, 3.51337489e-01],\n",
       "       [3.49665329e-01, 6.50334671e-01],\n",
       "       [2.92942669e-05, 9.99970706e-01],\n",
       "       [6.22359252e-01, 3.77640748e-01],\n",
       "       [7.40766625e-01, 2.59233375e-01],\n",
       "       [5.84619193e-01, 4.15380807e-01],\n",
       "       [5.65156086e-01, 4.34843914e-01],\n",
       "       [6.11919454e-01, 3.88080546e-01],\n",
       "       [2.58739542e-01, 7.41260458e-01],\n",
       "       [2.83213785e-01, 7.16786215e-01],\n",
       "       [6.58746705e-01, 3.41253295e-01],\n",
       "       [6.91202110e-01, 3.08797890e-01],\n",
       "       [5.77949576e-01, 4.22050424e-01],\n",
       "       [3.96036054e-01, 6.03963946e-01],\n",
       "       [5.57931979e-01, 4.42068021e-01],\n",
       "       [6.44482757e-01, 3.55517243e-01],\n",
       "       [6.47428489e-01, 3.52571511e-01],\n",
       "       [4.84836841e-01, 5.15163159e-01],\n",
       "       [6.23005163e-01, 3.76994837e-01],\n",
       "       [1.43694196e-01, 8.56305804e-01],\n",
       "       [4.14441477e-01, 5.85558523e-01],\n",
       "       [4.87220030e-01, 5.12779970e-01],\n",
       "       [4.66583829e-01, 5.33416171e-01],\n",
       "       [5.68354825e-01, 4.31645175e-01],\n",
       "       [4.05072247e-01, 5.94927753e-01],\n",
       "       [1.92619239e-08, 9.99999981e-01],\n",
       "       [5.64600821e-01, 4.35399179e-01],\n",
       "       [3.34266445e-01, 6.65733555e-01],\n",
       "       [4.10089947e-01, 5.89910053e-01],\n",
       "       [3.63368267e-01, 6.36631733e-01],\n",
       "       [5.01012155e-01, 4.98987845e-01],\n",
       "       [4.30904752e-01, 5.69095248e-01],\n",
       "       [6.64066988e-01, 3.35933012e-01],\n",
       "       [4.26413865e-01, 5.73586135e-01],\n",
       "       [4.31088271e-01, 5.68911729e-01],\n",
       "       [1.60360242e-01, 8.39639758e-01],\n",
       "       [6.11234736e-01, 3.88765264e-01],\n",
       "       [3.45191093e-01, 6.54808907e-01],\n",
       "       [6.42060699e-01, 3.57939301e-01],\n",
       "       [5.88677120e-01, 4.11322880e-01],\n",
       "       [5.74192630e-01, 4.25807370e-01],\n",
       "       [1.11022302e-15, 1.00000000e+00],\n",
       "       [6.47910759e-01, 3.52089241e-01],\n",
       "       [4.27556191e-01, 5.72443809e-01],\n",
       "       [3.30338343e-01, 6.69661657e-01],\n",
       "       [6.83718655e-01, 3.16281345e-01],\n",
       "       [4.62392798e-01, 5.37607202e-01],\n",
       "       [6.21314959e-01, 3.78685041e-01],\n",
       "       [5.07456933e-01, 4.92543067e-01],\n",
       "       [5.29622898e-01, 4.70377102e-01],\n",
       "       [5.58711819e-01, 4.41288181e-01],\n",
       "       [6.70247584e-01, 3.29752416e-01],\n",
       "       [2.41253594e-01, 7.58746406e-01],\n",
       "       [4.15893450e-01, 5.84106550e-01],\n",
       "       [3.67610034e-01, 6.32389966e-01],\n",
       "       [6.01869665e-11, 1.00000000e+00],\n",
       "       [1.83485823e-01, 8.16514177e-01],\n",
       "       [6.36060807e-01, 3.63939193e-01],\n",
       "       [6.56381369e-01, 3.43618631e-01],\n",
       "       [1.68715000e-01, 8.31285000e-01],\n",
       "       [6.60842104e-01, 3.39157896e-01],\n",
       "       [6.36103571e-01, 3.63896429e-01],\n",
       "       [2.19372799e-01, 7.80627201e-01],\n",
       "       [3.71194597e-01, 6.28805403e-01],\n",
       "       [6.21017352e-01, 3.78982648e-01],\n",
       "       [5.31790453e-01, 4.68209547e-01],\n",
       "       [2.36318932e-01, 7.63681068e-01],\n",
       "       [7.12599775e-01, 2.87400225e-01],\n",
       "       [7.02407491e-01, 2.97592509e-01],\n",
       "       [6.26186526e-01, 3.73813474e-01],\n",
       "       [6.19917892e-01, 3.80082108e-01],\n",
       "       [6.85698440e-01, 3.14301560e-01],\n",
       "       [5.78211682e-01, 4.21788318e-01],\n",
       "       [1.40976897e-09, 9.99999999e-01],\n",
       "       [6.01813459e-01, 3.98186541e-01],\n",
       "       [6.04321853e-01, 3.95678147e-01],\n",
       "       [3.04596062e-01, 6.95403938e-01],\n",
       "       [7.21998064e-01, 2.78001936e-01],\n",
       "       [6.45697554e-01, 3.54302446e-01],\n",
       "       [5.67136841e-01, 4.32863159e-01],\n",
       "       [3.85913260e-01, 6.14086740e-01],\n",
       "       [4.48623972e-01, 5.51376028e-01],\n",
       "       [1.82684305e-01, 8.17315695e-01],\n",
       "       [3.62291042e-07, 9.99999638e-01],\n",
       "       [5.12269528e-01, 4.87730472e-01],\n",
       "       [9.29814649e-02, 9.07018535e-01],\n",
       "       [6.11607115e-01, 3.88392885e-01],\n",
       "       [5.80690077e-01, 4.19309923e-01],\n",
       "       [3.97017069e-01, 6.02982931e-01],\n",
       "       [5.64836765e-01, 4.35163235e-01],\n",
       "       [5.65675850e-01, 4.34324150e-01],\n",
       "       [6.64061856e-01, 3.35938144e-01],\n",
       "       [6.78614665e-01, 3.21385335e-01],\n",
       "       [1.67868101e-02, 9.83213190e-01],\n",
       "       [4.10312330e-01, 5.89687670e-01],\n",
       "       [4.11215614e-01, 5.88784386e-01],\n",
       "       [6.85695779e-01, 3.14304221e-01],\n",
       "       [5.74264377e-01, 4.25735623e-01],\n",
       "       [3.63571591e-01, 6.36428409e-01],\n",
       "       [2.33717507e-01, 7.66282493e-01],\n",
       "       [3.80581468e-01, 6.19418532e-01],\n",
       "       [3.00828196e-01, 6.99171804e-01],\n",
       "       [6.97154476e-01, 3.02845524e-01],\n",
       "       [2.93871594e-11, 1.00000000e+00],\n",
       "       [3.57682336e-01, 6.42317664e-01],\n",
       "       [6.42500783e-01, 3.57499217e-01],\n",
       "       [7.14625541e-01, 2.85374459e-01],\n",
       "       [4.31433505e-01, 5.68566495e-01],\n",
       "       [6.21547660e-01, 3.78452340e-01],\n",
       "       [6.99908981e-01, 3.00091019e-01]])"
      ]
     },
     "execution_count": 38,
     "metadata": {},
     "output_type": "execute_result"
    }
   ],
   "source": [
    "lg.predict_proba(xtest)"
   ]
  },
  {
   "cell_type": "code",
   "execution_count": 36,
   "id": "7d173c21",
   "metadata": {
    "ExecuteTime": {
     "end_time": "2022-12-29T05:25:44.037885Z",
     "start_time": "2022-12-29T05:25:44.013377Z"
    },
    "collapsed": true
   },
   "outputs": [
    {
     "data": {
      "text/plain": [
       "array([0.30452531, 0.31877703, 0.44367414, 0.38921733, 0.59269384,\n",
       "       0.36956317, 0.30038704, 0.54692511, 0.33818035, 0.33127783,\n",
       "       0.44228109, 0.38675009, 0.39055992, 0.59112026, 0.33552674,\n",
       "       0.57245686, 0.43372324, 0.45788059, 0.35447774, 0.33139277,\n",
       "       0.31723268, 0.40883429, 0.62290217, 0.41041013, 0.40151401,\n",
       "       0.36355281, 0.29759251, 0.37764075, 0.39961214, 0.32114247,\n",
       "       0.40983596, 0.3643934 , 0.44023927, 0.73202738, 0.75057933,\n",
       "       0.39110034, 0.64453762, 0.54259562, 0.35093269, 0.30951188,\n",
       "       0.32152608, 0.99986938, 0.49897881, 0.47033417, 0.43391175,\n",
       "       0.60194141, 0.27722799, 0.32353764, 0.37622974, 0.41463054,\n",
       "       0.42522759, 0.32120318, 0.31797751, 0.42228205, 0.45048237,\n",
       "       0.36964963, 0.73649517, 0.34719582, 0.82840481, 0.34623401,\n",
       "       0.57875229, 0.63721819, 0.36956317, 0.91182407, 0.59604453,\n",
       "       0.85704698, 0.3448188 , 0.87716263, 0.53214663, 0.8516612 ,\n",
       "       0.74748072, 0.65094849, 0.3198435 , 0.41479701, 0.63726063,\n",
       "       0.30931394, 0.86023778, 0.33574907, 0.32064069, 0.28843736,\n",
       "       0.32202975, 0.4637594 , 0.66092133, 0.49682849, 0.41730687,\n",
       "       0.50079348, 0.77934514, 0.69817003, 0.30319238, 0.90641378,\n",
       "       0.3621054 , 0.37675616, 0.66656312, 0.3085489 , 0.44204889,\n",
       "       0.34439662, 0.36700803, 0.60880523, 0.62373652, 0.67196998,\n",
       "       0.65568469, 0.59773497, 0.58623377, 0.49077152, 0.57219421,\n",
       "       0.69050359, 0.40764569, 0.28221531, 0.5297742 , 0.74250907,\n",
       "       0.99991219, 0.32289723, 0.40227128, 0.35621753, 0.64279252,\n",
       "       0.58722189, 0.47701077, 0.32051228, 0.33417973, 0.3262391 ,\n",
       "       0.80422438, 0.38584294, 0.35329096, 0.48587396, 0.39829626,\n",
       "       0.3513548 , 0.66868912, 0.39682562, 0.41893198, 0.33395733,\n",
       "       0.959788  , 0.50729088, 0.42236918, 0.34032219, 0.75205229,\n",
       "       0.30220429, 0.90159902, 0.38837446, 0.56384643, 0.35703319,\n",
       "       0.30841126, 0.29984917, 0.41249496, 0.32207395, 0.31797751,\n",
       "       0.36477422, 0.32116792, 0.59789666, 0.80634622, 0.75653791,\n",
       "       0.31717295, 0.74599478, 0.99999999, 0.65076299, 1.        ,\n",
       "       0.75382433, 0.61336854, 0.30980078, 0.407137  , 0.51611752,\n",
       "       0.36557216, 0.7526778 , 0.38185591, 0.97693663, 0.44014191,\n",
       "       0.5543461 , 0.59395673, 0.35876794, 0.30201216, 0.41585591,\n",
       "       0.61430554, 0.39213437, 0.90306562, 0.36428548, 0.43741415,\n",
       "       0.33956415, 0.42338761, 0.38431212, 0.33139277, 0.37784806,\n",
       "       0.4222433 , 0.28363847, 0.40919618, 0.65481725, 0.41597933,\n",
       "       0.66974823, 0.39813407, 0.41404282, 0.34942634, 0.50423492,\n",
       "       0.32739658, 0.32241989, 0.57054572, 0.33367035, 0.35423162,\n",
       "       0.73116688, 0.57028814, 0.74133132, 0.44721729, 0.56035964,\n",
       "       0.42833823, 0.31984292, 0.31500989, 0.32776671, 0.55958645,\n",
       "       0.38140968, 0.28359734, 0.54069257, 0.69687766, 0.48196057,\n",
       "       0.35594469, 0.29385413, 0.89111235, 0.38211086, 0.32550529,\n",
       "       0.45721036, 0.53860734, 0.4213193 , 0.31533154, 0.398194  ,\n",
       "       0.52533484, 0.42756554, 0.42377069, 0.29954326, 0.61865162,\n",
       "       0.35133749, 0.65033467, 0.99997071, 0.37764075, 0.25923337,\n",
       "       0.41538081, 0.43484391, 0.38808055, 0.74126046, 0.71678622,\n",
       "       0.3412533 , 0.30879789, 0.42205042, 0.60396395, 0.44206802,\n",
       "       0.35551724, 0.35257151, 0.51516316, 0.37699484, 0.8563058 ,\n",
       "       0.58555852, 0.51277997, 0.53341617, 0.43164517, 0.59492775,\n",
       "       0.99999998, 0.43539918, 0.66573356, 0.58991005, 0.63663173,\n",
       "       0.49898784, 0.56909525, 0.33593301, 0.57358614, 0.56891173,\n",
       "       0.83963976, 0.38876526, 0.65480891, 0.3579393 , 0.41132288,\n",
       "       0.42580737, 1.        , 0.35208924, 0.57244381, 0.66966166,\n",
       "       0.31628134, 0.5376072 , 0.37868504, 0.49254307, 0.4703771 ,\n",
       "       0.44128818, 0.32975242, 0.75874641, 0.58410655, 0.63238997,\n",
       "       1.        , 0.81651418, 0.36393919, 0.34361863, 0.831285  ,\n",
       "       0.3391579 , 0.36389643, 0.7806272 , 0.6288054 , 0.37898265,\n",
       "       0.46820955, 0.76368107, 0.28740022, 0.29759251, 0.37381347,\n",
       "       0.38008211, 0.31430156, 0.42178832, 1.        , 0.39818654,\n",
       "       0.39567815, 0.69540394, 0.27800194, 0.35430245, 0.43286316,\n",
       "       0.61408674, 0.55137603, 0.8173157 , 0.99999964, 0.48773047,\n",
       "       0.90701854, 0.38839288, 0.41930992, 0.60298293, 0.43516323,\n",
       "       0.43432415, 0.33593814, 0.32138534, 0.98321319, 0.58968767,\n",
       "       0.58878439, 0.31430422, 0.42573562, 0.63642841, 0.76628249,\n",
       "       0.61941853, 0.6991718 , 0.30284552, 1.        , 0.64231766,\n",
       "       0.35749922, 0.28537446, 0.5685665 , 0.37845234, 0.30009102])"
      ]
     },
     "execution_count": 36,
     "metadata": {},
     "output_type": "execute_result"
    }
   ],
   "source": [
    "proba = lg.predict_proba(xtest)[:,1]\n",
    "proba"
   ]
  },
  {
   "cell_type": "code",
   "execution_count": 39,
   "id": "ba298a65",
   "metadata": {
    "ExecuteTime": {
     "end_time": "2022-12-29T05:40:21.505706Z",
     "start_time": "2022-12-29T05:40:21.497126Z"
    }
   },
   "outputs": [],
   "source": [
    "from sklearn.metrics import roc_auc_score, roc_curve, accuracy_score"
   ]
  },
  {
   "cell_type": "code",
   "execution_count": 40,
   "id": "50a2b0bd",
   "metadata": {
    "ExecuteTime": {
     "end_time": "2022-12-29T05:42:34.930115Z",
     "start_time": "2022-12-29T05:42:34.680150Z"
    }
   },
   "outputs": [
    {
     "data": {
      "text/plain": [
       "<matplotlib.legend.Legend at 0x7f9952a6c250>"
      ]
     },
     "execution_count": 40,
     "metadata": {},
     "output_type": "execute_result"
    },
    {
     "data": {
      "image/png": "[encoded data removed]",
      "text/plain": [
       "<Figure size 640x480 with 1 Axes>"
      ]
     },
     "metadata": {},
     "output_type": "display_data"
    }
   ],
   "source": [
    "auc = roc_auc_score(ytest,proba)\n",
    "\n",
    "fpr,tpr, threshold = roc_curve(ytest,proba)\n",
    "\n",
    "plt.plot(fpr,tpr,label = '(AUC = %0.2f)' %auc)\n",
    "plt.legend()"
   ]
  },
  {
   "cell_type": "code",
   "execution_count": 41,
   "id": "da45a7a9",
   "metadata": {
    "ExecuteTime": {
     "end_time": "2022-12-29T05:43:46.952668Z",
     "start_time": "2022-12-29T05:43:46.941737Z"
    }
   },
   "outputs": [
    {
     "data": {
      "text/plain": [
       "0.7413381335994866"
      ]
     },
     "execution_count": 41,
     "metadata": {},
     "output_type": "execute_result"
    }
   ],
   "source": [
    "auc"
   ]
  },
  {
   "cell_type": "code",
   "execution_count": 44,
   "id": "2309ad1f",
   "metadata": {
    "ExecuteTime": {
     "end_time": "2022-12-29T05:45:07.526123Z",
     "start_time": "2022-12-29T05:45:07.514433Z"
    },
    "collapsed": true
   },
   "outputs": [
    {
     "data": {
      "text/plain": [
       "array([2.        , 1.        , 0.90701854, 0.90641378, 0.90159902,\n",
       "       0.87716263, 0.86023778, 0.85704698, 0.831285  , 0.8173157 ,\n",
       "       0.76368107, 0.75653791, 0.75057933, 0.74748072, 0.74599478,\n",
       "       0.74250907, 0.73116688, 0.71678622, 0.69687766, 0.69050359,\n",
       "       0.64231766, 0.63663173, 0.6288054 , 0.62373652, 0.61941853,\n",
       "       0.61865162, 0.61336854, 0.60880523, 0.59789666, 0.59492775,\n",
       "       0.59112026, 0.58991005, 0.58878439, 0.58722189, 0.58623377,\n",
       "       0.58555852, 0.57358614, 0.57244381, 0.57219421, 0.57028814,\n",
       "       0.5685665 , 0.56035964, 0.5543461 , 0.55137603, 0.54692511,\n",
       "       0.53860734, 0.53214663, 0.5297742 , 0.52533484, 0.51516316,\n",
       "       0.49898784, 0.49897881, 0.49254307, 0.49077152, 0.44721729,\n",
       "       0.44367414, 0.44206802, 0.43741415, 0.43539918, 0.43432415,\n",
       "       0.43372324, 0.43286316, 0.43164517, 0.42833823, 0.42580737,\n",
       "       0.42522759, 0.42338761, 0.42236918, 0.42228205, 0.41893198,\n",
       "       0.41730687, 0.41479701, 0.41463054, 0.41404282, 0.41132288,\n",
       "       0.40883429, 0.40764569, 0.39961214, 0.39829626, 0.398194  ,\n",
       "       0.39818654, 0.39682562, 0.39567815, 0.38876526, 0.38839288,\n",
       "       0.38808055, 0.38675009, 0.38211086, 0.38140968, 0.38008211,\n",
       "       0.37898265, 0.37868504, 0.37784806, 0.37764075, 0.37675616,\n",
       "       0.37622974, 0.36964963, 0.36956317, 0.36557216, 0.3643934 ,\n",
       "       0.36393919, 0.36355281, 0.3621054 , 0.35876794, 0.3579393 ,\n",
       "       0.35447774, 0.35430245, 0.35257151, 0.35208924, 0.3513548 ,\n",
       "       0.35093269, 0.34719582, 0.34623401, 0.33818035, 0.33593301,\n",
       "       0.33574907, 0.33552674, 0.33417973, 0.33395733, 0.33367035,\n",
       "       0.33139277, 0.33127783, 0.32739658, 0.32550529, 0.32353764,\n",
       "       0.32289723, 0.32207395, 0.32138534, 0.32120318, 0.32116792,\n",
       "       0.31877703, 0.31797751, 0.30980078, 0.30879789, 0.30201216,\n",
       "       0.30038704, 0.29984917, 0.29954326, 0.29759251, 0.25923337])"
      ]
     },
     "execution_count": 44,
     "metadata": {},
     "output_type": "execute_result"
    }
   ],
   "source": [
    "threshold"
   ]
  },
  {
   "cell_type": "code",
   "execution_count": 45,
   "id": "b58b138a",
   "metadata": {
    "ExecuteTime": {
     "end_time": "2022-12-29T05:45:22.274602Z",
     "start_time": "2022-12-29T05:45:22.266657Z"
    }
   },
   "outputs": [
    {
     "data": {
      "text/plain": [
       "140"
      ]
     },
     "execution_count": 45,
     "metadata": {},
     "output_type": "execute_result"
    }
   ],
   "source": [
    "len(threshold)"
   ]
  },
  {
   "cell_type": "code",
   "execution_count": 48,
   "id": "5c2748e3",
   "metadata": {
    "ExecuteTime": {
     "end_time": "2022-12-29T05:49:00.976445Z",
     "start_time": "2022-12-29T05:49:00.717732Z"
    }
   },
   "outputs": [],
   "source": [
    "accuracy = []\n",
    "\n",
    "for i in threshold:\n",
    "    ypred = np.where(proba>i,1,0)\n",
    "    accuracy.append(accuracy_score(ytest,ypred))\n",
    "    \n",
    "    final_threshold = pd.concat([pd.Series(threshold),pd.Series(accuracy)], axis=1)\n",
    "    final_threshold.columns = ['Threshold', 'Accuracy']"
   ]
  },
  {
   "cell_type": "code",
   "execution_count": 49,
   "id": "3d9b7d86",
   "metadata": {
    "ExecuteTime": {
     "end_time": "2022-12-29T05:49:30.839834Z",
     "start_time": "2022-12-29T05:49:30.822218Z"
    }
   },
   "outputs": [
    {
     "data": {
      "text/html": [
       "<div>\n",
       "<style scoped>\n",
       "    .dataframe tbody tr th:only-of-type {\n",
       "        vertical-align: middle;\n",
       "    }\n",
       "\n",
       "    .dataframe tbody tr th {\n",
       "        vertical-align: top;\n",
       "    }\n",
       "\n",
       "    .dataframe thead th {\n",
       "        text-align: right;\n",
       "    }\n",
       "</style>\n",
       "<table border=\"1\" class=\"dataframe\">\n",
       "  <thead>\n",
       "    <tr style=\"text-align: right;\">\n",
       "      <th></th>\n",
       "      <th>Threshold</th>\n",
       "      <th>Accuracy</th>\n",
       "    </tr>\n",
       "  </thead>\n",
       "  <tbody>\n",
       "    <tr>\n",
       "      <th>56</th>\n",
       "      <td>0.442068</td>\n",
       "      <td>0.713433</td>\n",
       "    </tr>\n",
       "    <tr>\n",
       "      <th>55</th>\n",
       "      <td>0.443674</td>\n",
       "      <td>0.713433</td>\n",
       "    </tr>\n",
       "    <tr>\n",
       "      <th>54</th>\n",
       "      <td>0.447217</td>\n",
       "      <td>0.710448</td>\n",
       "    </tr>\n",
       "    <tr>\n",
       "      <th>67</th>\n",
       "      <td>0.422369</td>\n",
       "      <td>0.704478</td>\n",
       "    </tr>\n",
       "    <tr>\n",
       "      <th>57</th>\n",
       "      <td>0.437414</td>\n",
       "      <td>0.704478</td>\n",
       "    </tr>\n",
       "    <tr>\n",
       "      <th>...</th>\n",
       "      <td>...</td>\n",
       "      <td>...</td>\n",
       "    </tr>\n",
       "    <tr>\n",
       "      <th>136</th>\n",
       "      <td>0.299849</td>\n",
       "      <td>0.531343</td>\n",
       "    </tr>\n",
       "    <tr>\n",
       "      <th>137</th>\n",
       "      <td>0.299543</td>\n",
       "      <td>0.528358</td>\n",
       "    </tr>\n",
       "    <tr>\n",
       "      <th>0</th>\n",
       "      <td>2.000000</td>\n",
       "      <td>0.504478</td>\n",
       "    </tr>\n",
       "    <tr>\n",
       "      <th>1</th>\n",
       "      <td>1.000000</td>\n",
       "      <td>0.504478</td>\n",
       "    </tr>\n",
       "    <tr>\n",
       "      <th>139</th>\n",
       "      <td>0.259233</td>\n",
       "      <td>0.498507</td>\n",
       "    </tr>\n",
       "  </tbody>\n",
       "</table>\n",
       "<p>140 rows × 2 columns</p>\n",
       "</div>"
      ],
      "text/plain": [
       "     Threshold  Accuracy\n",
       "56    0.442068  0.713433\n",
       "55    0.443674  0.713433\n",
       "54    0.447217  0.710448\n",
       "67    0.422369  0.704478\n",
       "57    0.437414  0.704478\n",
       "..         ...       ...\n",
       "136   0.299849  0.531343\n",
       "137   0.299543  0.528358\n",
       "0     2.000000  0.504478\n",
       "1     1.000000  0.504478\n",
       "139   0.259233  0.498507\n",
       "\n",
       "[140 rows x 2 columns]"
      ]
     },
     "execution_count": 49,
     "metadata": {},
     "output_type": "execute_result"
    }
   ],
   "source": [
    "final_threshold.sort_values(by='Accuracy', ascending=False)"
   ]
  },
  {
   "cell_type": "code",
   "execution_count": 50,
   "id": "95d9dd33",
   "metadata": {
    "ExecuteTime": {
     "end_time": "2022-12-29T05:50:01.742032Z",
     "start_time": "2022-12-29T05:50:01.734728Z"
    }
   },
   "outputs": [],
   "source": [
    "from sklearn.preprocessing import binarize"
   ]
  },
  {
   "cell_type": "code",
   "execution_count": 52,
   "id": "d8578785",
   "metadata": {
    "ExecuteTime": {
     "end_time": "2022-12-29T05:50:57.980025Z",
     "start_time": "2022-12-29T05:50:57.968228Z"
    },
    "collapsed": true
   },
   "outputs": [
    {
     "data": {
      "text/plain": [
       "array([0., 0., 1., 0., 1., 0., 0., 1., 0., 0., 1., 0., 0., 1., 0., 1., 0.,\n",
       "       1., 0., 0., 0., 0., 1., 0., 0., 0., 0., 0., 0., 0., 0., 0., 0., 1.,\n",
       "       1., 0., 1., 1., 0., 0., 0., 1., 1., 1., 0., 1., 0., 0., 0., 0., 0.,\n",
       "       0., 0., 0., 1., 0., 1., 0., 1., 0., 1., 1., 0., 1., 1., 1., 0., 1.,\n",
       "       1., 1., 1., 1., 0., 0., 1., 0., 1., 0., 0., 0., 0., 1., 1., 1., 0.,\n",
       "       1., 1., 1., 0., 1., 0., 0., 1., 0., 0., 0., 0., 1., 1., 1., 1., 1.,\n",
       "       1., 1., 1., 1., 0., 0., 1., 1., 1., 0., 0., 0., 1., 1., 1., 0., 0.,\n",
       "       0., 1., 0., 0., 1., 0., 0., 1., 0., 0., 0., 1., 1., 0., 0., 1., 0.,\n",
       "       1., 0., 1., 0., 0., 0., 0., 0., 0., 0., 0., 1., 1., 1., 0., 1., 1.,\n",
       "       1., 1., 1., 1., 0., 0., 1., 0., 1., 0., 1., 0., 1., 1., 0., 0., 0.,\n",
       "       1., 0., 1., 0., 0., 0., 0., 0., 0., 0., 0., 0., 0., 1., 0., 1., 0.,\n",
       "       0., 0., 1., 0., 0., 1., 0., 0., 1., 1., 1., 1., 1., 0., 0., 0., 0.,\n",
       "       1., 0., 0., 1., 1., 1., 0., 0., 1., 0., 0., 1., 1., 0., 0., 0., 1.,\n",
       "       0., 0., 0., 1., 0., 1., 1., 0., 0., 0., 0., 0., 1., 1., 0., 0., 0.,\n",
       "       1., 1., 0., 0., 1., 0., 1., 1., 1., 1., 0., 1., 1., 0., 1., 1., 1.,\n",
       "       1., 1., 0., 1., 1., 1., 0., 1., 0., 0., 0., 1., 0., 1., 1., 0., 1.,\n",
       "       0., 1., 1., 0., 0., 1., 1., 1., 1., 1., 0., 0., 1., 0., 0., 1., 1.,\n",
       "       0., 1., 1., 0., 0., 0., 0., 0., 0., 1., 0., 0., 1., 0., 0., 0., 1.,\n",
       "       1., 1., 1., 1., 1., 0., 0., 1., 0., 0., 0., 0., 1., 1., 1., 0., 0.,\n",
       "       1., 1., 1., 1., 0., 1., 1., 0., 0., 1., 0., 0.])"
      ]
     },
     "execution_count": 52,
     "metadata": {},
     "output_type": "execute_result"
    }
   ],
   "source": [
    "y = binarize([proba], threshold=0.442068)[0]\n",
    "y"
   ]
  },
  {
   "cell_type": "code",
   "execution_count": 53,
   "id": "00991495",
   "metadata": {
    "ExecuteTime": {
     "end_time": "2022-12-29T05:51:33.351770Z",
     "start_time": "2022-12-29T05:51:33.334170Z"
    }
   },
   "outputs": [
    {
     "name": "stdout",
     "output_type": "stream",
     "text": [
      "              precision    recall  f1-score   support\n",
      "\n",
      "           0       0.70      0.76      0.73       169\n",
      "           1       0.73      0.67      0.70       166\n",
      "\n",
      "    accuracy                           0.72       335\n",
      "   macro avg       0.72      0.72      0.72       335\n",
      "weighted avg       0.72      0.72      0.72       335\n",
      "\n"
     ]
    }
   ],
   "source": [
    "print(classification_report(ytest,y))"
   ]
  },
  {
   "cell_type": "code",
   "execution_count": null,
   "id": "7102d715",
   "metadata": {},
   "outputs": [],
   "source": []
  }
 ],
 "metadata": {
  "kernelspec": {
   "display_name": "Python 3 (ipykernel)",
   "language": "python",
   "name": "python3"
  },
  "language_info": {
   "codemirror_mode": {
    "name": "ipython",
    "version": 3
   },
   "file_extension": ".py",
   "mimetype": "text/x-python",
   "name": "python",
   "nbconvert_exporter": "python",
   "pygments_lexer": "ipython3",
   "version": "3.9.13"
  }
 },
 "nbformat": 4,
 "nbformat_minor": 5
}
